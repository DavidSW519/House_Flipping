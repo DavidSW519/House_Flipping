{
 "cells": [
  {
   "cell_type": "markdown",
   "metadata": {
    "application/vnd.databricks.v1+cell": {
     "cellMetadata": {
      "byteLimit": 2048000,
      "rowLimit": 10000
     },
     "inputWidgets": {},
     "nuid": "8d337f40-7134-4d95-81e4-098e8f6d027c",
     "showTitle": false,
     "title": ""
    },
    "id": "AuDSIoX41Gx1"
   },
   "source": [
    "## Proyecto\n",
    "\n",
    "Se desea desarrollar un modelo de machine learning a escala que cuente con la capacidad de evaluar de manera acelerada y precisa el valor de diversos bienes inmuebles para ofrecer recomendaciones de compra-venta con el objetivo de **aplicar estrategias de [House Flipping](https://www.lahaus.mx/blog/tendencias-del-mercado/house-flipping-invertir-mexico)**.\n",
    "\n",
    "**Conjunto de Datos**\n",
    "\n",
    "[KC House Dataset](https://www.kaggle.com/datasets/shivachandel/kc-house-data)\n",
    "\n",
    "El conjunto de datos consiste en los precios de las viviendas del condado de King, un área en el estado de Washington, EE. UU. entre mayo de 2014 y mayo de 2015, estos datos cubren también el área de Seattle. El conjunto de datos consta de 21 variables y 21,613 observaciones.\n",
    "\n",
    "**Diccionario de Datos**\n",
    "    \n",
    "* id - Identificador único para cada casa vendida\n",
    "* date - Fecha de la venta\n",
    "* price (target) - Precio de cada vivienda vendida\n",
    "* bedrooms - Número de dormitorios\n",
    "* bathrooms - Número de baños, donde 0.5 representa una habitación con inodoro pero sin ducha\n",
    "* sqft_living - Pies cuadrados del espacio habitable interior de los apartamentos\n",
    "* sqft_lot - Pies cuadrados del terreno\n",
    "* floors - Número de pisos\n",
    "* waterfront - Variable dummy que indica si el apartamento tiene vista al mar o no\n",
    "* view - Índice de 0 a 4 de qué tan buena es la vista de la propiedad\n",
    "* condition - Índice de 1 a 5 sobre la condición del apartamento,\n",
    "* grade - Índice del 1 al 13, en el que de 1 a 3 no llega a la construcción y diseño de edificios, 7 tiene un nivel promedio de construcción y diseño y 11 a 13 tiene un alto nivel de calidad de construcción y diseño.\n",
    "* sqft_above - Pies cuadrados del espacio interior de la vivienda que está por encima del nivel del suelo\n",
    "* sqft_basement - Pies cuadrados del espacio interior de la vivienda que está por debajo del nivel del suelo\n",
    "* yr_built - Año en que se construyó la casa inicialmente\n",
    "* yr_renovated - Año de la última renovación de la casa\n",
    "* zipcode - Área de código postal donde se encuentra la casa\n",
    "* lat - Latitud\n",
    "* long - Longitud\n",
    "* sqft_living15 - Pies cuadrados del espacio habitable interior de la vivienda para los 15 vecinos más cercanos\n",
    "* sqft_lot15 - Pies cuadrados de los lotes de terreno de los 15 vecinos más cercanos.\n"
   ]
  },
  {
   "cell_type": "markdown",
   "metadata": {
    "application/vnd.databricks.v1+cell": {
     "cellMetadata": {
      "byteLimit": 2048000,
      "rowLimit": 10000
     },
     "inputWidgets": {},
     "nuid": "8443f5ff-d16a-4ad3-b857-d3d0e5c3af4e",
     "showTitle": false,
     "title": ""
    }
   },
   "source": [
    "## Librerias"
   ]
  },
  {
   "cell_type": "code",
   "execution_count": null,
   "metadata": {
    "application/vnd.databricks.v1+cell": {
     "cellMetadata": {
      "byteLimit": 2048000,
      "rowLimit": 10000
     },
     "inputWidgets": {},
     "nuid": "035d2782-e634-43bf-99af-5af0c44d70b7",
     "showTitle": false,
     "title": ""
    }
   },
   "outputs": [],
   "source": [
    "%pip install -q keplergl\n",
    "%pip install -q pyod\n",
    "%pip install -q hyperopt\n",
    "%pip install -q mlflow"
   ]
  },
  {
   "cell_type": "code",
   "execution_count": null,
   "metadata": {
    "application/vnd.databricks.v1+cell": {
     "cellMetadata": {
      "byteLimit": 2048000,
      "rowLimit": 10000
     },
     "inputWidgets": {},
     "nuid": "ad59db79-e52c-4510-868f-51efc76a490d",
     "showTitle": false,
     "title": ""
    }
   },
   "outputs": [],
   "source": [
    "#sql.functions\n",
    "from pyspark.sql.functions import col, substring, to_date, year, lit\n",
    "\n",
    "#manipulación de datos\n",
    "import numpy as np\n",
    "import json\n",
    "\n",
    "#visualización\n",
    "from keplergl import KeplerGl\n",
    "\n",
    "#\n",
    "from pyod.models.lof import LOF\n",
    "\n",
    "from pyspark.ml.feature import VectorAssembler\n",
    "from pyspark.ml import Pipeline\n",
    "\n",
    "from pyspark.ml.clustering import KMeans"
   ]
  },
  {
   "cell_type": "markdown",
   "metadata": {
    "application/vnd.databricks.v1+cell": {
     "cellMetadata": {
      "byteLimit": 2048000,
      "rowLimit": 10000
     },
     "inputWidgets": {},
     "nuid": "f68c9a11-ed83-40e8-a4b4-544b1fe40f5e",
     "showTitle": false,
     "title": ""
    },
    "id": "YgJ6EuF8yE0m"
   },
   "source": [
    "## Lectura de datos"
   ]
  },
  {
   "cell_type": "code",
   "execution_count": null,
   "metadata": {
    "application/vnd.databricks.v1+cell": {
     "cellMetadata": {
      "byteLimit": 2048000,
      "rowLimit": 10000
     },
     "inputWidgets": {},
     "nuid": "9504937d-cd24-45ee-9664-f1cb7cb53b14",
     "showTitle": false,
     "title": ""
    },
    "id": "DGAxgr8dWtnq"
   },
   "outputs": [],
   "source": [
    "\"\"\"\n",
    "generation = \"mod4gen17\"\n",
    "input_cont = f\"/mnt/{generation}/input/kc_house_data.csv\"\n",
    "\"\"\"\n",
    "input_cont = f\"/mnt/input/kc_house_data.csv\"\n",
    "output_cont = '/dbfs/mnt/output/'"
   ]
  },
  {
   "cell_type": "code",
   "execution_count": null,
   "metadata": {
    "application/vnd.databricks.v1+cell": {
     "cellMetadata": {
      "byteLimit": 2048000,
      "rowLimit": 10000
     },
     "inputWidgets": {},
     "nuid": "9e9c750f-838a-449a-8934-04407a20d24f",
     "showTitle": false,
     "title": ""
    }
   },
   "outputs": [],
   "source": [
    "data = spark.read.csv(input_cont, inferSchema=True, header=True)\n",
    "type(data)"
   ]
  },
  {
   "cell_type": "markdown",
   "metadata": {
    "application/vnd.databricks.v1+cell": {
     "cellMetadata": {
      "byteLimit": 2048000,
      "rowLimit": 10000
     },
     "inputWidgets": {},
     "nuid": "744fee01-f9c5-4c4b-a967-6dfb3cb0bc7c",
     "showTitle": false,
     "title": ""
    },
    "id": "fzl_qV-oyE0o"
   },
   "source": [
    "## EDA"
   ]
  },
  {
   "cell_type": "code",
   "execution_count": null,
   "metadata": {
    "application/vnd.databricks.v1+cell": {
     "cellMetadata": {
      "byteLimit": 2048000,
      "rowLimit": 10000
     },
     "inputWidgets": {},
     "nuid": "05920150-1125-4946-bf1a-16d73a5eb6c4",
     "showTitle": false,
     "title": ""
    }
   },
   "outputs": [],
   "source": [
    "# Tamaño del DataFrame\n",
    "print((data.count(), len(data.columns)))"
   ]
  },
  {
   "cell_type": "code",
   "execution_count": null,
   "metadata": {
    "application/vnd.databricks.v1+cell": {
     "cellMetadata": {
      "byteLimit": 2048000,
      "rowLimit": 10000
     },
     "inputWidgets": {},
     "nuid": "bbcb9bb4-8ec9-4715-95ff-1a0aa1f4bf14",
     "showTitle": false,
     "title": ""
    },
    "id": "JLwREuDKyE0p"
   },
   "outputs": [],
   "source": [
    "# Visualización general\n",
    "data.limit(20).display()"
   ]
  },
  {
   "cell_type": "markdown",
   "metadata": {
    "application/vnd.databricks.v1+cell": {
     "cellMetadata": {
      "byteLimit": 2048000,
      "rowLimit": 10000
     },
     "inputWidgets": {},
     "nuid": "d18d82da-4978-4b60-8b1b-2c8ee4ef4b5d",
     "showTitle": false,
     "title": ""
    }
   },
   "source": [
    "Tipos de variables"
   ]
  },
  {
   "cell_type": "code",
   "execution_count": null,
   "metadata": {
    "application/vnd.databricks.v1+cell": {
     "cellMetadata": {
      "byteLimit": 2048000,
      "rowLimit": 10000
     },
     "inputWidgets": {},
     "nuid": "cc916eff-25ad-41d8-98bc-8aadad61026f",
     "showTitle": false,
     "title": ""
    },
    "id": "l5UxqZq5yE0p"
   },
   "outputs": [],
   "source": [
    "data.printSchema()"
   ]
  },
  {
   "cell_type": "markdown",
   "metadata": {
    "application/vnd.databricks.v1+cell": {
     "cellMetadata": {
      "byteLimit": 2048000,
      "rowLimit": 10000
     },
     "inputWidgets": {},
     "nuid": "5640dbd1-fb60-4a82-82b5-c7f726adb35e",
     "showTitle": false,
     "title": ""
    }
   },
   "source": [
    "Años registrados"
   ]
  },
  {
   "cell_type": "code",
   "execution_count": null,
   "metadata": {
    "application/vnd.databricks.v1+cell": {
     "cellMetadata": {
      "byteLimit": 2048000,
      "rowLimit": 10000
     },
     "inputWidgets": {},
     "nuid": "2fcc75f8-e48c-4dc2-bd50-5cf00b328bc5",
     "showTitle": false,
     "title": ""
    }
   },
   "outputs": [],
   "source": [
    "data.withColumn(\"Años\", substring(col(\"date\"), 1, 4)).groupBy(\"Años\").count().display()"
   ]
  },
  {
   "cell_type": "markdown",
   "metadata": {
    "application/vnd.databricks.v1+cell": {
     "cellMetadata": {},
     "inputWidgets": {},
     "nuid": "08fc0b8d-2274-4622-aff9-aee70e8ebc09",
     "showTitle": false,
     "title": ""
    }
   },
   "source": [
    "![Años](https://raw.githubusercontent.com/RebecaOsorio/houseflipping/main/vizs/Imagen_1.png)"
   ]
  },
  {
   "cell_type": "markdown",
   "metadata": {
    "application/vnd.databricks.v1+cell": {
     "cellMetadata": {
      "byteLimit": 2048000,
      "rowLimit": 10000
     },
     "inputWidgets": {},
     "nuid": "bfa478fe-2a52-4052-9427-245689ca2122",
     "showTitle": false,
     "title": ""
    }
   },
   "source": [
    "Cantidad de habitaciones"
   ]
  },
  {
   "cell_type": "code",
   "execution_count": null,
   "metadata": {
    "application/vnd.databricks.v1+cell": {
     "cellMetadata": {
      "byteLimit": 2048000,
      "rowLimit": 10000
     },
     "inputWidgets": {},
     "nuid": "c6f6c3e8-1e49-4d1f-a487-e7862d3f9bd3",
     "showTitle": false,
     "title": ""
    }
   },
   "outputs": [],
   "source": [
    "data.groupBy(\"bedrooms\").count().display()"
   ]
  },
  {
   "cell_type": "markdown",
   "metadata": {
    "application/vnd.databricks.v1+cell": {
     "cellMetadata": {},
     "inputWidgets": {},
     "nuid": "e0db7cbb-e57f-43db-b8f7-0a162e0254f8",
     "showTitle": false,
     "title": ""
    }
   },
   "source": [
    "![Habitaciones](https://raw.githubusercontent.com/RebecaOsorio/houseflipping/main/vizs/imagen_2.1.png)"
   ]
  },
  {
   "cell_type": "markdown",
   "metadata": {
    "application/vnd.databricks.v1+cell": {
     "cellMetadata": {
      "byteLimit": 2048000,
      "rowLimit": 10000
     },
     "inputWidgets": {},
     "nuid": "c580720a-86af-47bf-ac23-7d9712cb16c9",
     "showTitle": false,
     "title": ""
    }
   },
   "source": [
    "Precio vs Cantidad de habitaciones"
   ]
  },
  {
   "cell_type": "code",
   "execution_count": null,
   "metadata": {
    "application/vnd.databricks.v1+cell": {
     "cellMetadata": {
      "byteLimit": 2048000,
      "rowLimit": 10000
     },
     "inputWidgets": {},
     "nuid": "ab71bf64-a0dc-4f6b-96c8-c8577b72621b",
     "showTitle": false,
     "title": ""
    }
   },
   "outputs": [],
   "source": [
    "data.groupBy('bedrooms').mean('price').display()"
   ]
  },
  {
   "cell_type": "markdown",
   "metadata": {
    "application/vnd.databricks.v1+cell": {
     "cellMetadata": {},
     "inputWidgets": {},
     "nuid": "848130a7-f400-40ba-abb5-d44e4dc30494",
     "showTitle": false,
     "title": ""
    }
   },
   "source": [
    "![Price v Bedrooms](https://raw.githubusercontent.com/RebecaOsorio/houseflipping/main/vizs/imagen_2.png)"
   ]
  },
  {
   "cell_type": "markdown",
   "metadata": {
    "application/vnd.databricks.v1+cell": {
     "cellMetadata": {
      "byteLimit": 2048000,
      "rowLimit": 10000
     },
     "inputWidgets": {},
     "nuid": "36fbca37-1e4d-4e42-9c56-362e8e79bc14",
     "showTitle": false,
     "title": ""
    }
   },
   "source": [
    "Cantidad de baños"
   ]
  },
  {
   "cell_type": "code",
   "execution_count": null,
   "metadata": {
    "application/vnd.databricks.v1+cell": {
     "cellMetadata": {
      "byteLimit": 2048000,
      "rowLimit": 10000
     },
     "inputWidgets": {},
     "nuid": "761a119c-b0db-4d70-a60a-a675074e9b05",
     "showTitle": false,
     "title": ""
    }
   },
   "outputs": [],
   "source": [
    "data.groupBy(\"bathrooms\").count().display()"
   ]
  },
  {
   "cell_type": "markdown",
   "metadata": {
    "application/vnd.databricks.v1+cell": {
     "cellMetadata": {},
     "inputWidgets": {},
     "nuid": "7bc84631-d324-46c2-b0fc-3bba7e0c9bcb",
     "showTitle": false,
     "title": ""
    }
   },
   "source": [
    "![Baños](https://raw.githubusercontent.com/RebecaOsorio/houseflipping/main/vizs/imagen_3.png)"
   ]
  },
  {
   "cell_type": "markdown",
   "metadata": {
    "application/vnd.databricks.v1+cell": {
     "cellMetadata": {
      "byteLimit": 2048000,
      "rowLimit": 10000
     },
     "inputWidgets": {},
     "nuid": "17b5420c-e8a5-4e6d-93e2-5b6981996e89",
     "showTitle": false,
     "title": ""
    }
   },
   "source": [
    "Precio vs Cantidad de Baños"
   ]
  },
  {
   "cell_type": "code",
   "execution_count": null,
   "metadata": {
    "application/vnd.databricks.v1+cell": {
     "cellMetadata": {
      "byteLimit": 2048000,
      "rowLimit": 10000
     },
     "inputWidgets": {},
     "nuid": "9c633127-e838-43c0-ac18-34aada149a3f",
     "showTitle": false,
     "title": ""
    }
   },
   "outputs": [],
   "source": [
    "data.groupBy('bathrooms').mean('price').display()"
   ]
  },
  {
   "cell_type": "markdown",
   "metadata": {
    "application/vnd.databricks.v1+cell": {
     "cellMetadata": {},
     "inputWidgets": {},
     "nuid": "50c458e3-41d9-4e1a-b7cc-446a79e1cb1a",
     "showTitle": false,
     "title": ""
    }
   },
   "source": [
    "![Price v Bathrooms](https://raw.githubusercontent.com/RebecaOsorio/houseflipping/main/vizs/imagen_4.png)"
   ]
  },
  {
   "cell_type": "markdown",
   "metadata": {
    "application/vnd.databricks.v1+cell": {
     "cellMetadata": {
      "byteLimit": 2048000,
      "rowLimit": 10000
     },
     "inputWidgets": {},
     "nuid": "7f44ca63-2763-4973-b44e-59e71249ed13",
     "showTitle": false,
     "title": ""
    }
   },
   "source": [
    "Número de pisos"
   ]
  },
  {
   "cell_type": "code",
   "execution_count": null,
   "metadata": {
    "application/vnd.databricks.v1+cell": {
     "cellMetadata": {
      "byteLimit": 2048000,
      "rowLimit": 10000
     },
     "inputWidgets": {},
     "nuid": "8453ec2e-c2b1-44f5-b3ad-6f8f2b3834a3",
     "showTitle": false,
     "title": ""
    }
   },
   "outputs": [],
   "source": [
    "data.groupBy(\"floors\").count().display()"
   ]
  },
  {
   "cell_type": "markdown",
   "metadata": {
    "application/vnd.databricks.v1+cell": {
     "cellMetadata": {},
     "inputWidgets": {},
     "nuid": "57c75205-e133-4d08-81b7-dd404dab1f61",
     "showTitle": false,
     "title": ""
    }
   },
   "source": [
    "![Floors](https://raw.githubusercontent.com/RebecaOsorio/houseflipping/main/vizs/imagen_5.png)"
   ]
  },
  {
   "cell_type": "markdown",
   "metadata": {
    "application/vnd.databricks.v1+cell": {
     "cellMetadata": {
      "byteLimit": 2048000,
      "rowLimit": 10000
     },
     "inputWidgets": {},
     "nuid": "586b64f4-9041-45ee-8f90-42a8f65d752e",
     "showTitle": false,
     "title": ""
    }
   },
   "source": [
    "Precio vs Número de pisos"
   ]
  },
  {
   "cell_type": "code",
   "execution_count": null,
   "metadata": {
    "application/vnd.databricks.v1+cell": {
     "cellMetadata": {
      "byteLimit": 2048000,
      "rowLimit": 10000
     },
     "inputWidgets": {},
     "nuid": "d92b4e7a-2626-4fc7-87fc-297007086795",
     "showTitle": false,
     "title": ""
    }
   },
   "outputs": [],
   "source": [
    "data.groupBy('floors').mean('price').display()"
   ]
  },
  {
   "cell_type": "markdown",
   "metadata": {
    "application/vnd.databricks.v1+cell": {
     "cellMetadata": {},
     "inputWidgets": {},
     "nuid": "f542a8d2-ca2e-4c56-a70b-e2ebf8b1b98a",
     "showTitle": false,
     "title": ""
    }
   },
   "source": [
    "![Price v Floors](https://raw.githubusercontent.com/RebecaOsorio/houseflipping/main/vizs/imagen_6.png)"
   ]
  },
  {
   "cell_type": "markdown",
   "metadata": {
    "application/vnd.databricks.v1+cell": {
     "cellMetadata": {
      "byteLimit": 2048000,
      "rowLimit": 10000
     },
     "inputWidgets": {},
     "nuid": "cac3c0a7-7701-4256-99ce-ecd1d22b7f73",
     "showTitle": false,
     "title": ""
    }
   },
   "source": [
    "Precio vs Pies cuadrados del espacio habitable"
   ]
  },
  {
   "cell_type": "code",
   "execution_count": null,
   "metadata": {
    "application/vnd.databricks.v1+cell": {
     "cellMetadata": {
      "byteLimit": 2048000,
      "rowLimit": 10000
     },
     "inputWidgets": {},
     "nuid": "6d980146-630c-495d-b600-6fd694bfee19",
     "showTitle": false,
     "title": ""
    }
   },
   "outputs": [],
   "source": [
    "data.groupBy('sqft_living').mean('price').display()"
   ]
  },
  {
   "cell_type": "markdown",
   "metadata": {
    "application/vnd.databricks.v1+cell": {
     "cellMetadata": {},
     "inputWidgets": {},
     "nuid": "e5755d1b-497b-4ff8-ae08-af1d18ee03af",
     "showTitle": false,
     "title": ""
    }
   },
   "source": [
    "![Sqft](https://raw.githubusercontent.com/RebecaOsorio/houseflipping/main/vizs/imagen_7.png)"
   ]
  },
  {
   "cell_type": "markdown",
   "metadata": {
    "application/vnd.databricks.v1+cell": {
     "cellMetadata": {
      "byteLimit": 2048000,
      "rowLimit": 10000
     },
     "inputWidgets": {},
     "nuid": "b29816e3-02a0-4929-9c21-972630fb289b",
     "showTitle": false,
     "title": ""
    }
   },
   "source": [
    "Precio vs Año de construcción"
   ]
  },
  {
   "cell_type": "code",
   "execution_count": null,
   "metadata": {
    "application/vnd.databricks.v1+cell": {
     "cellMetadata": {
      "byteLimit": 2048000,
      "rowLimit": 10000
     },
     "inputWidgets": {},
     "nuid": "c3fa98b8-15d8-47e2-acb2-a90cec47544c",
     "showTitle": false,
     "title": ""
    }
   },
   "outputs": [],
   "source": [
    "data.groupBy('yr_built').mean('price').display()"
   ]
  },
  {
   "cell_type": "markdown",
   "metadata": {
    "application/vnd.databricks.v1+cell": {
     "cellMetadata": {},
     "inputWidgets": {},
     "nuid": "46d5dd3e-fab5-48ed-a399-3068a0e58231",
     "showTitle": false,
     "title": ""
    }
   },
   "source": [
    "![Price v Sqft](https://raw.githubusercontent.com/RebecaOsorio/houseflipping/main/vizs/imagen_8.png)"
   ]
  },
  {
   "cell_type": "markdown",
   "metadata": {
    "application/vnd.databricks.v1+cell": {
     "cellMetadata": {
      "byteLimit": 2048000,
      "rowLimit": 10000
     },
     "inputWidgets": {},
     "nuid": "dc169931-7c6f-49f6-a3b6-6587fa466cde",
     "showTitle": false,
     "title": ""
    }
   },
   "source": [
    "> Observamos la relación entre el precio de la vivienda y algunas de las características más importantes de un inmueble, existe una relación de incremento en el precio mientras mejor sean las características relacionadas con el tamaño de la vivienda."
   ]
  },
  {
   "cell_type": "markdown",
   "metadata": {
    "application/vnd.databricks.v1+cell": {
     "cellMetadata": {
      "byteLimit": 2048000,
      "rowLimit": 10000
     },
     "inputWidgets": {},
     "nuid": "1a617c41-23ba-40e0-afdb-510189adcbbe",
     "showTitle": false,
     "title": ""
    }
   },
   "source": [
    "Precio de cada vivienda"
   ]
  },
  {
   "cell_type": "code",
   "execution_count": null,
   "metadata": {
    "application/vnd.databricks.v1+cell": {
     "cellMetadata": {
      "byteLimit": 2048000,
      "rowLimit": 10000
     },
     "inputWidgets": {},
     "nuid": "41ba2680-8784-426e-88c9-532701a97b38",
     "showTitle": false,
     "title": ""
    }
   },
   "outputs": [],
   "source": [
    "data.select('price').summary(\"count\", \"mean\", \"min\", \"10%\", \"20%\", \"30%\", \"40%\", \"50%\", \"60%\", \"70%\", \"80%\", \"90%\", \"max\").display()"
   ]
  },
  {
   "cell_type": "code",
   "execution_count": null,
   "metadata": {
    "application/vnd.databricks.v1+cell": {
     "cellMetadata": {
      "byteLimit": 2048000,
      "rowLimit": 10000
     },
     "inputWidgets": {},
     "nuid": "479ba21d-26e4-43f6-97c9-d370b9f2eca0",
     "showTitle": false,
     "title": ""
    }
   },
   "outputs": [],
   "source": [
    "display(data.select('price'))"
   ]
  },
  {
   "cell_type": "markdown",
   "metadata": {
    "application/vnd.databricks.v1+cell": {
     "cellMetadata": {},
     "inputWidgets": {},
     "nuid": "db2670d8-91ee-48aa-9416-d83aa13bc4ba",
     "showTitle": false,
     "title": ""
    }
   },
   "source": [
    "![Prices](https://raw.githubusercontent.com/RebecaOsorio/houseflipping/main/vizs/imagen9.png)"
   ]
  },
  {
   "cell_type": "markdown",
   "metadata": {
    "application/vnd.databricks.v1+cell": {
     "cellMetadata": {
      "byteLimit": 2048000,
      "rowLimit": 10000
     },
     "inputWidgets": {},
     "nuid": "6f8d37e8-76e1-484a-a98c-f3a67358e8a5",
     "showTitle": false,
     "title": ""
    },
    "id": "AJbzfdKhyE0t"
   },
   "source": [
    "### Kepler"
   ]
  },
  {
   "cell_type": "code",
   "execution_count": null,
   "metadata": {
    "application/vnd.databricks.v1+cell": {
     "cellMetadata": {
      "byteLimit": 2048000,
      "rowLimit": 10000
     },
     "inputWidgets": {},
     "nuid": "e2e5c3cd-1ba6-41fb-96af-2425c52be293",
     "showTitle": false,
     "title": ""
    }
   },
   "outputs": [],
   "source": [
    "ubs = data.select('lat', 'long', 'price')"
   ]
  },
  {
   "cell_type": "code",
   "execution_count": null,
   "metadata": {
    "application/vnd.databricks.v1+cell": {
     "cellMetadata": {
      "byteLimit": 2048000,
      "rowLimit": 10000
     },
     "inputWidgets": {},
     "nuid": "f57f3be1-642a-4b7d-b0b4-e6a6f5cfd6a1",
     "showTitle": false,
     "title": ""
    }
   },
   "outputs": [],
   "source": [
    "### Name of the Display\n",
    "name = \"House_Prices_HeatPoints\"\n",
    "cve = \"heatpoints_map\"\n",
    "\n",
    "### Load a pre-saved Config of the Display\n",
    "json_file_path = output_cont+cve+'.json'\n",
    "# Load the JSON file\n",
    "with open(json_file_path, \"r\") as json_file:\n",
    "    json_data = json.load(json_file)\n",
    "# Convert the JSON data to a dictionary\n",
    "config = dict(json_data)"
   ]
  },
  {
   "cell_type": "code",
   "execution_count": null,
   "metadata": {
    "application/vnd.databricks.v1+cell": {
     "cellMetadata": {
      "byteLimit": 2048000,
      "rowLimit": 10000
     },
     "inputWidgets": {},
     "nuid": "665219b4-b527-4449-9370-223db102cf1f",
     "showTitle": false,
     "title": ""
    },
    "id": "KorjhAHgyE0u"
   },
   "outputs": [],
   "source": [
    "kpl_heatpoints = KeplerGl(height=500)\n",
    "kpl_heatpoints.add_data(data=ubs.toPandas(), name=name)\n",
    "kpl_heatpoints.config = config\n",
    "kpl_heatpoints"
   ]
  },
  {
   "cell_type": "markdown",
   "metadata": {
    "application/vnd.databricks.v1+cell": {
     "cellMetadata": {},
     "inputWidgets": {},
     "nuid": "3e327564-838f-4604-9574-42ae98f7c926",
     "showTitle": false,
     "title": ""
    }
   },
   "source": [
    "![Mapa](heatpntsclusters_map_static.png)"
   ]
  },
  {
   "cell_type": "markdown",
   "metadata": {
    "application/vnd.databricks.v1+cell": {
     "cellMetadata": {
      "byteLimit": 2048000,
      "rowLimit": 10000
     },
     "inputWidgets": {},
     "nuid": "d0dd6514-13de-4deb-ac67-fa12deb52655",
     "showTitle": false,
     "title": ""
    }
   },
   "source": [
    "> Podemos observar claramente la distribución del precio de viviendas por zonas, entonces el zipcode podria darnos información util sobre el precio. Identificamos zonas que se rodean de viviendas con costos elevados, por ejemplo, las viviendas cercanas al mar."
   ]
  },
  {
   "cell_type": "markdown",
   "metadata": {
    "application/vnd.databricks.v1+cell": {
     "cellMetadata": {
      "byteLimit": 2048000,
      "rowLimit": 10000
     },
     "inputWidgets": {},
     "nuid": "f44a4fca-c15e-4494-8414-5b8c8bba2adb",
     "showTitle": false,
     "title": ""
    }
   },
   "source": [
    "Podríamos identificar una mejor delimitación de zonas acorde al precio si creamos clústeres respecto al precio de las viviendas. Aplicando un algoritmo simple de K-means podemos lograr este objetivo."
   ]
  },
  {
   "cell_type": "code",
   "execution_count": null,
   "metadata": {
    "application/vnd.databricks.v1+cell": {
     "cellMetadata": {
      "byteLimit": 2048000,
      "rowLimit": 10000
     },
     "inputWidgets": {},
     "nuid": "ed4b7944-f61a-4ac1-b774-750343ef9be4",
     "showTitle": false,
     "title": ""
    }
   },
   "outputs": [],
   "source": [
    "\n",
    "ubs_assembler = VectorAssembler(inputCols=[\"price\"], outputCol=\"features\")\n",
    "ubs_kmeans = KMeans(k=3, seed=123)\n",
    "\n",
    "ubs_pipeline = Pipeline(stages=[ubs_assembler,ubs_kmeans])\n",
    "\n",
    "aux = data.select('lat','long', 'price')\n",
    "\n",
    "ubs_model = ubs_pipeline.fit(aux)\n",
    "\n",
    "aux = ubs_model.transform(aux)\n",
    "aux = aux.withColumnRenamed('prediction','Ubs_cl')"
   ]
  },
  {
   "cell_type": "code",
   "execution_count": null,
   "metadata": {
    "application/vnd.databricks.v1+cell": {
     "cellMetadata": {
      "byteLimit": 2048000,
      "rowLimit": 10000
     },
     "inputWidgets": {},
     "nuid": "a98e1d2f-2086-4afa-9b3a-fcc45f375d6f",
     "showTitle": false,
     "title": ""
    }
   },
   "outputs": [],
   "source": [
    "aux.groupBy('Ubs_cl').mean('price').orderBy('avg(price)').display()"
   ]
  },
  {
   "cell_type": "code",
   "execution_count": null,
   "metadata": {
    "application/vnd.databricks.v1+cell": {
     "cellMetadata": {
      "byteLimit": 2048000,
      "rowLimit": 10000
     },
     "inputWidgets": {},
     "nuid": "5ee0dede-b1a6-46d6-b39f-7c93710da614",
     "showTitle": false,
     "title": ""
    }
   },
   "outputs": [],
   "source": [
    "aux = aux.select('lat','long', 'price', col('Ubs_cl').cast('string'))\n",
    "display(aux)"
   ]
  },
  {
   "cell_type": "code",
   "execution_count": null,
   "metadata": {
    "application/vnd.databricks.v1+cell": {
     "cellMetadata": {
      "byteLimit": 2048000,
      "rowLimit": 10000
     },
     "inputWidgets": {},
     "nuid": "392946a1-7170-4359-91ef-f27398a19d5a",
     "showTitle": false,
     "title": ""
    }
   },
   "outputs": [],
   "source": [
    "### Name of the Display\n",
    "name = \"House_PricesCls_HeatPoints\"\n",
    "cve = \"heatpntsclusters_map\"\n",
    "\n",
    "### Load a pre-saved Config of the Display\n",
    "json_file_path = output_cont+cve+'.json'\n",
    "# Load the JSON file\n",
    "with open(json_file_path, \"r\") as json_file:\n",
    "    json_data = json.load(json_file)\n",
    "# Convert the JSON data to a dictionary\n",
    "config = dict(json_data)"
   ]
  },
  {
   "cell_type": "code",
   "execution_count": null,
   "metadata": {
    "application/vnd.databricks.v1+cell": {
     "cellMetadata": {
      "byteLimit": 2048000,
      "rowLimit": 10000
     },
     "inputWidgets": {},
     "nuid": "925b22a6-77dd-4151-8036-aaf0d060d95e",
     "showTitle": false,
     "title": ""
    }
   },
   "outputs": [],
   "source": [
    "kpl_heatpntsclusters_map = KeplerGl(height=500)\n",
    "kpl_heatpntsclusters_map.add_data(data=aux.toPandas(), name=name)\n",
    "kpl_heatpntsclusters_map.config = config\n",
    "kpl_heatpntsclusters_map"
   ]
  },
  {
   "cell_type": "markdown",
   "metadata": {
    "application/vnd.databricks.v1+cell": {
     "cellMetadata": {},
     "inputWidgets": {},
     "nuid": "50d342ed-3dd9-4237-927b-4dee2aebb6a1",
     "showTitle": false,
     "title": ""
    }
   },
   "source": [
    "![Mapa](https://raw.githubusercontent.com/RebecaOsorio/houseflipping/main/heatpntsclusters_map_static.png)"
   ]
  },
  {
   "cell_type": "markdown",
   "metadata": {
    "application/vnd.databricks.v1+cell": {
     "cellMetadata": {
      "byteLimit": 2048000,
      "rowLimit": 10000
     },
     "inputWidgets": {},
     "nuid": "4c4dc0f8-0d91-4ab9-9804-048475ff9c0c",
     "showTitle": false,
     "title": ""
    }
   },
   "source": [
    "> Vemos en el mapa que los clústeres separaron de manera similar al gráfico anterior pero con una clara identificación de tres grupos de acuerdo al rango de precio del inmueble."
   ]
  },
  {
   "cell_type": "markdown",
   "metadata": {
    "application/vnd.databricks.v1+cell": {
     "cellMetadata": {
      "byteLimit": 2048000,
      "rowLimit": 10000
     },
     "inputWidgets": {},
     "nuid": "a697c370-dd94-4657-8d6e-670ace18ede5",
     "showTitle": false,
     "title": ""
    }
   },
   "source": [
    "## Limpieza"
   ]
  },
  {
   "cell_type": "markdown",
   "metadata": {
    "application/vnd.databricks.v1+cell": {
     "cellMetadata": {
      "byteLimit": 2048000,
      "rowLimit": 10000
     },
     "inputWidgets": {},
     "nuid": "960f987a-8164-4c56-9f66-900e617c9ea4",
     "showTitle": false,
     "title": ""
    }
   },
   "source": [
    "#### Cast de variables"
   ]
  },
  {
   "cell_type": "code",
   "execution_count": null,
   "metadata": {
    "application/vnd.databricks.v1+cell": {
     "cellMetadata": {
      "byteLimit": 2048000,
      "rowLimit": 10000
     },
     "inputWidgets": {},
     "nuid": "7130dc6e-bf51-4e88-b6e0-a58f471a5195",
     "showTitle": false,
     "title": ""
    }
   },
   "outputs": [],
   "source": [
    "data.dtypes"
   ]
  },
  {
   "cell_type": "code",
   "execution_count": null,
   "metadata": {
    "application/vnd.databricks.v1+cell": {
     "cellMetadata": {
      "byteLimit": 2048000,
      "rowLimit": 10000
     },
     "inputWidgets": {},
     "nuid": "0fe94ecc-454b-4b33-87d0-afa3a6c25872",
     "showTitle": false,
     "title": ""
    }
   },
   "outputs": [],
   "source": [
    "new_data = (data.withColumn('id', col('id').cast('string'))\n",
    "                .withColumn('zipcode', col('zipcode').cast('string'))\n",
    "                .withColumn('lat', col('lat').cast('string'))\n",
    "                .withColumn('long', col('long').cast('string')))"
   ]
  },
  {
   "cell_type": "markdown",
   "metadata": {
    "application/vnd.databricks.v1+cell": {
     "cellMetadata": {
      "byteLimit": 2048000,
      "rowLimit": 10000
     },
     "inputWidgets": {},
     "nuid": "4c2adef2-9687-4895-8695-49d6dafc90b6",
     "showTitle": false,
     "title": ""
    }
   },
   "source": [
    "#### Fechas"
   ]
  },
  {
   "cell_type": "code",
   "execution_count": null,
   "metadata": {
    "application/vnd.databricks.v1+cell": {
     "cellMetadata": {
      "byteLimit": 2048000,
      "rowLimit": 10000
     },
     "inputWidgets": {},
     "nuid": "715422e9-34f2-46dc-9704-2a05f10a921c",
     "showTitle": false,
     "title": ""
    }
   },
   "outputs": [],
   "source": [
    "new_data = new_data.withColumn( \"date\", to_date( substring(col(\"date\"), 1, 8), \"yyyyMMdd\" ) )"
   ]
  },
  {
   "cell_type": "code",
   "execution_count": null,
   "metadata": {
    "application/vnd.databricks.v1+cell": {
     "cellMetadata": {
      "byteLimit": 2048000,
      "rowLimit": 10000
     },
     "inputWidgets": {},
     "nuid": "74bc735d-9fe8-4220-a9bc-2cb3880fe0c0",
     "showTitle": false,
     "title": ""
    }
   },
   "outputs": [],
   "source": [
    "new_data.dtypes"
   ]
  },
  {
   "cell_type": "code",
   "execution_count": null,
   "metadata": {
    "application/vnd.databricks.v1+cell": {
     "cellMetadata": {
      "byteLimit": 2048000,
      "rowLimit": 10000
     },
     "inputWidgets": {},
     "nuid": "3b0305d8-53d5-4539-b216-3fb7bd4ba832",
     "showTitle": false,
     "title": ""
    }
   },
   "outputs": [],
   "source": [
    "new_data.limit(10).display()"
   ]
  },
  {
   "cell_type": "markdown",
   "metadata": {
    "application/vnd.databricks.v1+cell": {
     "cellMetadata": {
      "byteLimit": 2048000,
      "rowLimit": 10000
     },
     "inputWidgets": {},
     "nuid": "aa46c3f4-312c-4480-a889-ef94b24c3025",
     "showTitle": false,
     "title": ""
    }
   },
   "source": [
    "## Ingeniería de variables"
   ]
  },
  {
   "cell_type": "markdown",
   "metadata": {
    "application/vnd.databricks.v1+cell": {
     "cellMetadata": {
      "byteLimit": 2048000,
      "rowLimit": 10000
     },
     "inputWidgets": {},
     "nuid": "709e6f3d-b571-4d55-b616-fbf99ac0a812",
     "showTitle": false,
     "title": ""
    }
   },
   "source": [
    "Antigüedad del inmueble"
   ]
  },
  {
   "cell_type": "code",
   "execution_count": null,
   "metadata": {
    "application/vnd.databricks.v1+cell": {
     "cellMetadata": {
      "byteLimit": 2048000,
      "rowLimit": 10000
     },
     "inputWidgets": {},
     "nuid": "e138d2e3-010d-4b2f-876b-f131b24b30ae",
     "showTitle": false,
     "title": ""
    }
   },
   "outputs": [],
   "source": [
    "new_data = new_data.withColumn('age_of_property', year(new_data[\"date\"]) - new_data['yr_built'])"
   ]
  },
  {
   "cell_type": "markdown",
   "metadata": {
    "application/vnd.databricks.v1+cell": {
     "cellMetadata": {
      "byteLimit": 2048000,
      "rowLimit": 10000
     },
     "inputWidgets": {},
     "nuid": "1266d0d3-f830-4c95-8f61-1b24baf055bb",
     "showTitle": false,
     "title": ""
    }
   },
   "source": [
    "Años desde la última renovación"
   ]
  },
  {
   "cell_type": "code",
   "execution_count": null,
   "metadata": {
    "application/vnd.databricks.v1+cell": {
     "cellMetadata": {
      "byteLimit": 2048000,
      "rowLimit": 10000
     },
     "inputWidgets": {},
     "nuid": "e5c3c27c-a7d3-4f46-9ef5-6942d5999c13",
     "showTitle": false,
     "title": ""
    },
    "id": "Ps1xzow2CKIO"
   },
   "outputs": [],
   "source": [
    "new_data.createOrReplaceTempView(\"data\")\n",
    "new_data = spark.sql(\"SELECT *, \\\n",
    "                        YEAR(date) - GREATEST(yr_built, yr_renovated) as yrs_last_renovated  \\\n",
    "                        FROM data\")"
   ]
  },
  {
   "cell_type": "code",
   "execution_count": null,
   "metadata": {
    "application/vnd.databricks.v1+cell": {
     "cellMetadata": {
      "byteLimit": 2048000,
      "rowLimit": 10000
     },
     "inputWidgets": {},
     "nuid": "0c332a6e-9555-4e7f-9c1b-8ed4808e1e5e",
     "showTitle": false,
     "title": ""
    }
   },
   "outputs": [],
   "source": [
    "new_data.limit(10).display()"
   ]
  },
  {
   "cell_type": "markdown",
   "metadata": {
    "application/vnd.databricks.v1+cell": {
     "cellMetadata": {
      "byteLimit": 2048000,
      "rowLimit": 10000
     },
     "inputWidgets": {},
     "nuid": "5a328368-49a3-4a6b-a54e-4cbe22c64114",
     "showTitle": false,
     "title": ""
    }
   },
   "source": [
    "### Selección de variables"
   ]
  },
  {
   "cell_type": "code",
   "execution_count": null,
   "metadata": {
    "application/vnd.databricks.v1+cell": {
     "cellMetadata": {
      "byteLimit": 2048000,
      "rowLimit": 10000
     },
     "inputWidgets": {},
     "nuid": "76a9c81a-5a77-4290-8875-3c32739abe1a",
     "showTitle": false,
     "title": ""
    },
    "id": "5Ch5XIaqyE0w"
   },
   "outputs": [],
   "source": [
    "varc = ['bedrooms','bathrooms','sqft_living','sqft_lot','floors',\n",
    "        'view','condition','grade','sqft_above','sqft_basement',\n",
    "        'sqft_living15','sqft_lot15', 'age_of_property', 'yrs_last_renovated']\n",
    "\n",
    "vard = ['zipcode','waterfront']\n",
    "\n",
    "um = ['id']\n",
    "\n",
    "tgt = ['price']"
   ]
  },
  {
   "cell_type": "markdown",
   "metadata": {
    "application/vnd.databricks.v1+cell": {
     "cellMetadata": {
      "byteLimit": 2048000,
      "rowLimit": 10000
     },
     "inputWidgets": {},
     "nuid": "55abc55e-a093-41b0-ad21-7589dbca501b",
     "showTitle": false,
     "title": ""
    }
   },
   "source": [
    "### Ausentes"
   ]
  },
  {
   "cell_type": "code",
   "execution_count": null,
   "metadata": {
    "application/vnd.databricks.v1+cell": {
     "cellMetadata": {
      "byteLimit": 2048000,
      "rowLimit": 10000
     },
     "inputWidgets": {},
     "nuid": "4ae71911-4071-46d3-bb6a-49af5fa7e455",
     "showTitle": false,
     "title": ""
    }
   },
   "outputs": [],
   "source": [
    "new_data.count()"
   ]
  },
  {
   "cell_type": "code",
   "execution_count": null,
   "metadata": {
    "application/vnd.databricks.v1+cell": {
     "cellMetadata": {
      "byteLimit": 2048000,
      "rowLimit": 10000
     },
     "inputWidgets": {},
     "nuid": "47e89342-0224-4b9c-aa94-ff55db301e0f",
     "showTitle": false,
     "title": ""
    }
   },
   "outputs": [],
   "source": [
    "for c in um+varc+vard+tgt:\n",
    "    print(f'Nulos en {c}',1-new_data.na.drop(subset=[c]).count() / new_data.count())"
   ]
  },
  {
   "cell_type": "code",
   "execution_count": null,
   "metadata": {
    "application/vnd.databricks.v1+cell": {
     "cellMetadata": {
      "byteLimit": 2048000,
      "rowLimit": 10000
     },
     "inputWidgets": {},
     "nuid": "afbb7f88-c891-4eb4-8237-804042a04ca8",
     "showTitle": false,
     "title": ""
    }
   },
   "outputs": [],
   "source": [
    "new_data.filter(\"sqft_above is null\").display()"
   ]
  },
  {
   "cell_type": "code",
   "execution_count": null,
   "metadata": {
    "application/vnd.databricks.v1+cell": {
     "cellMetadata": {
      "byteLimit": 2048000,
      "rowLimit": 10000
     },
     "inputWidgets": {},
     "nuid": "c7b898fc-d308-4cde-aae4-9133e6c3b619",
     "showTitle": false,
     "title": ""
    }
   },
   "outputs": [],
   "source": [
    "new_data = new_data.na.drop()"
   ]
  },
  {
   "cell_type": "markdown",
   "metadata": {
    "application/vnd.databricks.v1+cell": {
     "cellMetadata": {
      "byteLimit": 2048000,
      "rowLimit": 10000
     },
     "inputWidgets": {},
     "nuid": "b6181362-7bfe-4a22-8cd5-903523212112",
     "showTitle": false,
     "title": ""
    }
   },
   "source": [
    "### Zero's"
   ]
  },
  {
   "cell_type": "code",
   "execution_count": null,
   "metadata": {
    "application/vnd.databricks.v1+cell": {
     "cellMetadata": {
      "byteLimit": 2048000,
      "rowLimit": 10000
     },
     "inputWidgets": {},
     "nuid": "b02ef76b-a6b0-4a4a-9136-8f08d364af97",
     "showTitle": false,
     "title": ""
    }
   },
   "outputs": [],
   "source": [
    "display(new_data)"
   ]
  },
  {
   "cell_type": "markdown",
   "metadata": {
    "application/vnd.databricks.v1+cell": {
     "cellMetadata": {
      "byteLimit": 2048000,
      "rowLimit": 10000
     },
     "inputWidgets": {},
     "nuid": "6c40f159-c8f3-4e69-be98-6c72986e0f5f",
     "showTitle": false,
     "title": ""
    }
   },
   "source": [
    "Analizando el Data Profile, notemos los siguientes datos para las variables que tienen al menos un zero, o algún dato missing:\n",
    "* [waterfront, view, yr_renovated] tienen más del 90% de valores ausentes -> **Más del 90% de las casas listadas no tienen vista al mar, una pobre vista, o no han tenido renovaciones**\n",
    "* [sqft_basement] tiene el 60% de zeros -> **El 60% de las casas listadas no tienen sótanos**\n",
    "* [bedrooms] tiene el 0.05% de zeros y máx de 33 -> **Hay alguna casa que tiene hasta 33 habitaciones y hay un 0.05% de casas que se listaron como habitación/loft.**\n",
    "* [bathrooms] tiene 0.03% de zeros -> **Hay algunas casas que no tienen baños** Como queremos ganar con nuestra inversión, instalar nuevos servicios puede resultar costoso, por lo que decidiremos eliminar los inmuebles que no cuenten con al menos, medio baño.\n",
    "* [sqft_above] tiene el 0.01% de missings -> **Buscamos ofrecer beneficios al vender el inmueble, por lo que decidimos no ofrecer sótanos para habitar**"
   ]
  },
  {
   "cell_type": "markdown",
   "metadata": {
    "application/vnd.databricks.v1+cell": {
     "cellMetadata": {
      "byteLimit": 2048000,
      "rowLimit": 10000
     },
     "inputWidgets": {},
     "nuid": "8b81627e-872d-498a-b1de-81dcd66be686",
     "showTitle": false,
     "title": ""
    }
   },
   "source": [
    "## Extremos"
   ]
  },
  {
   "cell_type": "code",
   "execution_count": null,
   "metadata": {
    "application/vnd.databricks.v1+cell": {
     "cellMetadata": {
      "byteLimit": 2048000,
      "rowLimit": 10000
     },
     "inputWidgets": {},
     "nuid": "5cdaed65-430c-44c9-a901-7590caed4815",
     "showTitle": false,
     "title": ""
    }
   },
   "outputs": [],
   "source": [
    "#Conjunto con variables predictoras\n",
    "X = new_data.select(varc)\n",
    "X.summary('0.1%','1%',\"10%\", \"20%\", \"30%\", \"40%\", \"50%\", \"60%\", \"70%\", \"80%\", \"90%\",'99%','99.9%').display()"
   ]
  },
  {
   "cell_type": "code",
   "execution_count": null,
   "metadata": {
    "application/vnd.databricks.v1+cell": {
     "cellMetadata": {
      "byteLimit": 2048000,
      "rowLimit": 10000
     },
     "inputWidgets": {},
     "nuid": "592f83c2-b2ac-4697-9c55-61335af03856",
     "showTitle": false,
     "title": ""
    }
   },
   "outputs": [],
   "source": [
    "X.toPandas().hist(figsize=(10,10));"
   ]
  },
  {
   "cell_type": "markdown",
   "metadata": {
    "application/vnd.databricks.v1+cell": {
     "cellMetadata": {
      "byteLimit": 2048000,
      "rowLimit": 10000
     },
     "inputWidgets": {},
     "nuid": "04fe6edd-8c84-4ea7-9914-a6497bfef0f3",
     "showTitle": false,
     "title": ""
    }
   },
   "source": [
    "### Local Outlier Factor"
   ]
  },
  {
   "cell_type": "code",
   "execution_count": null,
   "metadata": {
    "application/vnd.databricks.v1+cell": {
     "cellMetadata": {
      "byteLimit": 2048000,
      "rowLimit": 10000
     },
     "inputWidgets": {},
     "nuid": "e5784c35-6735-4857-9bd6-fb53b7bedf0f",
     "showTitle": false,
     "title": ""
    }
   },
   "outputs": [],
   "source": [
    "#Convertimos el DataFrame a un arreglo de numpy\n",
    "data_np = np.array(X.select('*').collect())\n",
    "\n",
    "#Instanciamos Y ajustamos el modelo Local Outlier Factor\n",
    "model = LOF()\n",
    "model.fit(data_np)"
   ]
  },
  {
   "cell_type": "code",
   "execution_count": null,
   "metadata": {
    "application/vnd.databricks.v1+cell": {
     "cellMetadata": {
      "byteLimit": 2048000,
      "rowLimit": 10000
     },
     "inputWidgets": {},
     "nuid": "bf7c0553-36f5-4c01-bfa5-cc6dc39c020d",
     "showTitle": false,
     "title": ""
    }
   },
   "outputs": [],
   "source": [
    "#Puntajes de anomalía para los puntos de datos\n",
    "scores = model.decision_scores_\n",
    "\n",
    "#Umbral para determinar los valores atípicos\n",
    "threshold = model.threshold_"
   ]
  },
  {
   "cell_type": "code",
   "execution_count": null,
   "metadata": {
    "application/vnd.databricks.v1+cell": {
     "cellMetadata": {
      "byteLimit": 2048000,
      "rowLimit": 10000
     },
     "inputWidgets": {},
     "nuid": "846f8eb5-82e3-427a-b97b-64996f8df233",
     "showTitle": false,
     "title": ""
    }
   },
   "outputs": [],
   "source": [
    "#Agregamos la columna de sore para cada registro\n",
    "new_data = new_data.toPandas()\n",
    "new_data['outlier_score'] = scores\n",
    "\n",
    "new_data = spark.createDataFrame(new_data)"
   ]
  },
  {
   "cell_type": "code",
   "execution_count": null,
   "metadata": {
    "application/vnd.databricks.v1+cell": {
     "cellMetadata": {
      "byteLimit": 2048000,
      "rowLimit": 10000
     },
     "inputWidgets": {},
     "nuid": "bd673221-a865-473b-9e89-a0511587b31b",
     "showTitle": false,
     "title": ""
    }
   },
   "outputs": [],
   "source": [
    "new_data.limit(5).display()"
   ]
  },
  {
   "cell_type": "code",
   "execution_count": null,
   "metadata": {
    "application/vnd.databricks.v1+cell": {
     "cellMetadata": {
      "byteLimit": 2048000,
      "rowLimit": 10000
     },
     "inputWidgets": {},
     "nuid": "6e5f90b0-f8cf-49ed-8595-f864a1efcf69",
     "showTitle": false,
     "title": ""
    }
   },
   "outputs": [],
   "source": [
    "new_data = new_data.filter(new_data.outlier_score <= threshold)"
   ]
  },
  {
   "cell_type": "code",
   "execution_count": null,
   "metadata": {
    "application/vnd.databricks.v1+cell": {
     "cellMetadata": {
      "byteLimit": 2048000,
      "rowLimit": 10000
     },
     "inputWidgets": {},
     "nuid": "08f28a5d-3ff3-4f5a-9cfa-8ed9e4c27205",
     "showTitle": false,
     "title": ""
    }
   },
   "outputs": [],
   "source": [
    "print((new_data.count(), len(new_data.columns)))"
   ]
  },
  {
   "cell_type": "code",
   "execution_count": null,
   "metadata": {
    "application/vnd.databricks.v1+cell": {
     "cellMetadata": {
      "byteLimit": 2048000,
      "rowLimit": 10000
     },
     "inputWidgets": {},
     "nuid": "2b094e2e-d258-4c4f-bfdb-dba9a314db06",
     "showTitle": false,
     "title": ""
    }
   },
   "outputs": [],
   "source": [
    "my_final_data = new_data.select('*').drop('outlier_score')"
   ]
  },
  {
   "cell_type": "code",
   "execution_count": null,
   "metadata": {
    "application/vnd.databricks.v1+cell": {
     "cellMetadata": {
      "byteLimit": 2048000,
      "rowLimit": 10000
     },
     "inputWidgets": {},
     "nuid": "f5189026-8505-489e-832c-c79dda6ee0ef",
     "showTitle": false,
     "title": ""
    }
   },
   "outputs": [],
   "source": [
    "my_final_data.toPandas().hist(figsize=(10,10));"
   ]
  },
  {
   "cell_type": "markdown",
   "metadata": {
    "application/vnd.databricks.v1+cell": {
     "cellMetadata": {
      "byteLimit": 2048000,
      "rowLimit": 10000
     },
     "inputWidgets": {},
     "nuid": "b89c9b56-bdd3-4502-8825-adba2fe14b47",
     "showTitle": false,
     "title": ""
    }
   },
   "source": [
    "## Modelo"
   ]
  },
  {
   "cell_type": "code",
   "execution_count": null,
   "metadata": {
    "application/vnd.databricks.v1+cell": {
     "cellMetadata": {
      "byteLimit": 2048000,
      "rowLimit": 10000
     },
     "inputWidgets": {},
     "nuid": "59072860-597d-4859-a5c8-b9b99398080d",
     "showTitle": false,
     "title": ""
    }
   },
   "outputs": [],
   "source": [
    "from pyspark.ml.feature import  VectorIndexer, OneHotEncoder, StringIndexer"
   ]
  },
  {
   "cell_type": "code",
   "execution_count": null,
   "metadata": {
    "application/vnd.databricks.v1+cell": {
     "cellMetadata": {
      "byteLimit": 2048000,
      "rowLimit": 10000
     },
     "inputWidgets": {},
     "nuid": "c3cc905d-7f13-454f-9682-39b53edca254",
     "showTitle": false,
     "title": ""
    },
    "id": "qLjT14OgI-6C"
   },
   "outputs": [],
   "source": [
    "from pyspark.ml.regression import LinearRegression\n",
    "from pyspark.ml.regression import RandomForestRegressor\n",
    "from pyspark.ml.regression import DecisionTreeRegressor"
   ]
  },
  {
   "cell_type": "code",
   "execution_count": null,
   "metadata": {
    "application/vnd.databricks.v1+cell": {
     "cellMetadata": {
      "byteLimit": 2048000,
      "rowLimit": 10000
     },
     "inputWidgets": {},
     "nuid": "9aa8b09a-e7de-43a0-baf6-a1823ed9adda",
     "showTitle": false,
     "title": ""
    }
   },
   "outputs": [],
   "source": [
    "zip_indexer = StringIndexer(inputCol=\"zipcode\", outputCol=\"zipcodeIndex\")\n",
    "zip_encoder = OneHotEncoder(inputCol=\"zipcodeIndex\", outputCol=\"zipcodeVec\")\n",
    "\n",
    "water_indexer = StringIndexer(inputCol=\"waterfront\", outputCol=\"waterfrontIndex\")\n",
    "water_encoder = OneHotEncoder(inputCol=\"waterfrontIndex\", outputCol=\"waterfrontVec\")"
   ]
  },
  {
   "cell_type": "code",
   "execution_count": null,
   "metadata": {
    "application/vnd.databricks.v1+cell": {
     "cellMetadata": {
      "byteLimit": 2048000,
      "rowLimit": 10000
     },
     "inputWidgets": {},
     "nuid": "3a2e9d50-3748-4201-8191-dac6824e6e79",
     "showTitle": false,
     "title": ""
    }
   },
   "outputs": [],
   "source": [
    "assembler = VectorAssembler(inputCols=varc+['waterfrontVec','zipcodeVec'], \n",
    "                            outputCol=\"features\")"
   ]
  },
  {
   "cell_type": "code",
   "execution_count": null,
   "metadata": {
    "application/vnd.databricks.v1+cell": {
     "cellMetadata": {
      "byteLimit": 2048000,
      "rowLimit": 10000
     },
     "inputWidgets": {},
     "nuid": "c3f5d2f2-ded1-4c1f-8af5-7b0b2115cdde",
     "showTitle": false,
     "title": ""
    },
    "id": "UEGQRgRQyE00"
   },
   "outputs": [],
   "source": [
    "train_data, val_data = my_final_data.randomSplit([0.8, 0.2])"
   ]
  },
  {
   "cell_type": "code",
   "execution_count": null,
   "metadata": {
    "application/vnd.databricks.v1+cell": {
     "cellMetadata": {
      "byteLimit": 2048000,
      "rowLimit": 10000
     },
     "inputWidgets": {},
     "nuid": "6ea9cd5c-6037-438f-9e77-70a69d32d525",
     "showTitle": false,
     "title": ""
    }
   },
   "outputs": [],
   "source": [
    "train_data.display()"
   ]
  },
  {
   "cell_type": "code",
   "execution_count": null,
   "metadata": {
    "application/vnd.databricks.v1+cell": {
     "cellMetadata": {
      "byteLimit": 2048000,
      "rowLimit": 10000
     },
     "inputWidgets": {},
     "nuid": "d48a5e31-9991-4c36-813b-1767e97986b7",
     "showTitle": false,
     "title": ""
    }
   },
   "outputs": [],
   "source": [
    "train_data.columns"
   ]
  },
  {
   "cell_type": "code",
   "execution_count": null,
   "metadata": {
    "application/vnd.databricks.v1+cell": {
     "cellMetadata": {
      "byteLimit": 2048000,
      "rowLimit": 10000
     },
     "inputWidgets": {},
     "nuid": "8d2a3719-8be1-44f8-bfaa-3e48ff50e302",
     "showTitle": false,
     "title": ""
    },
    "id": "HD2oX-uKyE00"
   },
   "outputs": [],
   "source": [
    "lr = LinearRegression(featuresCol=\"features\", labelCol=\"price\")\n",
    "rf = RandomForestRegressor(featuresCol=\"features\", labelCol=\"price\")\n",
    "tree = DecisionTreeRegressor(featuresCol=\"features\", labelCol=\"price\")"
   ]
  },
  {
   "cell_type": "code",
   "execution_count": null,
   "metadata": {
    "application/vnd.databricks.v1+cell": {
     "cellMetadata": {
      "byteLimit": 2048000,
      "rowLimit": 10000
     },
     "inputWidgets": {},
     "nuid": "dbe31d38-9bce-42bb-9ed1-4b4dac1bc5d2",
     "showTitle": false,
     "title": ""
    },
    "id": "jDztNGG5yE00"
   },
   "outputs": [],
   "source": [
    "lr_pipeline = Pipeline(stages=[zip_indexer,\n",
    "                            water_indexer,\n",
    "                            zip_encoder,\n",
    "                            water_encoder,\n",
    "                            assembler,\n",
    "                            lr])\n",
    "rf_pipeline = Pipeline(stages=[zip_indexer,\n",
    "                            water_indexer,\n",
    "                            zip_encoder,\n",
    "                            water_encoder,\n",
    "                            assembler,\n",
    "                            rf])\n",
    "tree_pipeline = Pipeline(stages=[zip_indexer,\n",
    "                            water_indexer,\n",
    "                            zip_encoder,\n",
    "                            water_encoder,\n",
    "                            assembler,\n",
    "                            tree])"
   ]
  },
  {
   "cell_type": "code",
   "execution_count": null,
   "metadata": {
    "application/vnd.databricks.v1+cell": {
     "cellMetadata": {
      "byteLimit": 2048000,
      "rowLimit": 10000
     },
     "inputWidgets": {},
     "nuid": "a300859e-4ee0-457e-9577-b1efa0c56bb0",
     "showTitle": false,
     "title": ""
    },
    "id": "4_gTA_kAyE00"
   },
   "outputs": [],
   "source": [
    "fit_lr = lr_pipeline.fit(train_data)\n",
    "lr_predict_val = fit_lr.transform(val_data)\n",
    "lr_predict_train = fit_lr.transform(train_data)\n",
    "lr_predict_val.select('price','prediction').display()"
   ]
  },
  {
   "cell_type": "code",
   "execution_count": null,
   "metadata": {
    "application/vnd.databricks.v1+cell": {
     "cellMetadata": {
      "byteLimit": 2048000,
      "rowLimit": 10000
     },
     "inputWidgets": {},
     "nuid": "2c00c3e2-27f8-401d-8c2e-d3afcf2433bc",
     "showTitle": false,
     "title": ""
    },
    "id": "BUfQs3vDyE01"
   },
   "outputs": [],
   "source": [
    "fit_rf = rf_pipeline.fit(train_data)\n",
    "rf_predict_val = fit_rf.transform(val_data)\n",
    "rf_predict_train = fit_rf.transform(train_data)\n",
    "rf_predict_val.select('price','prediction').display()"
   ]
  },
  {
   "cell_type": "code",
   "execution_count": null,
   "metadata": {
    "application/vnd.databricks.v1+cell": {
     "cellMetadata": {
      "byteLimit": 2048000,
      "rowLimit": 10000
     },
     "inputWidgets": {},
     "nuid": "89f28d45-cd54-4b15-839f-327f962efaf4",
     "showTitle": false,
     "title": ""
    },
    "id": "sb_YuMdzyE01"
   },
   "outputs": [],
   "source": [
    "fit_tree = tree_pipeline.fit(train_data)\n",
    "tree_predict_val = fit_tree.transform(val_data)\n",
    "tree_predict_train = fit_tree.transform(train_data)\n",
    "tree_predict_val.select('price','prediction').display()"
   ]
  },
  {
   "cell_type": "code",
   "execution_count": null,
   "metadata": {
    "application/vnd.databricks.v1+cell": {
     "cellMetadata": {
      "byteLimit": 2048000,
      "rowLimit": 10000
     },
     "inputWidgets": {},
     "nuid": "a1bf52c0-172b-4633-9272-f709c4f7f0f1",
     "showTitle": false,
     "title": ""
    },
    "id": "IaNTDmXXyE01"
   },
   "outputs": [],
   "source": [
    "from pyspark.ml.evaluation import RegressionEvaluator\n",
    "\n",
    "evaluator_mse = RegressionEvaluator(labelCol=\"price\", predictionCol=\"prediction\", metricName=\"mse\")\n",
    "evaluator_r2 = RegressionEvaluator(labelCol=\"price\", predictionCol=\"prediction\", metricName=\"r2\")\n",
    "evaluator_mae = RegressionEvaluator(labelCol=\"price\", predictionCol=\"prediction\", metricName=\"mae\")\n",
    "evaluator_rmse = RegressionEvaluator(labelCol=\"price\", predictionCol=\"prediction\", metricName=\"rmse\")\n"
   ]
  },
  {
   "cell_type": "code",
   "execution_count": null,
   "metadata": {
    "application/vnd.databricks.v1+cell": {
     "cellMetadata": {
      "byteLimit": 2048000,
      "rowLimit": 10000
     },
     "inputWidgets": {},
     "nuid": "76bc5de2-7126-4f68-8b14-a0488ec67f69",
     "showTitle": false,
     "title": ""
    },
    "id": "DHRlx_nIyE01"
   },
   "outputs": [],
   "source": [
    "model = ['Linear Regressor','Random Forest Regressor','Decision Tree Regressor']\n",
    "train = [lr_predict_train,rf_predict_train,tree_predict_train]\n",
    "test = [lr_predict_val,rf_predict_val,tree_predict_val]"
   ]
  },
  {
   "cell_type": "code",
   "execution_count": null,
   "metadata": {
    "application/vnd.databricks.v1+cell": {
     "cellMetadata": {
      "byteLimit": 2048000,
      "rowLimit": 10000
     },
     "inputWidgets": {},
     "nuid": "508c32fe-e0e8-4eb1-99a0-19be5af639ef",
     "showTitle": false,
     "title": ""
    },
    "id": "FinlxJdxyE02"
   },
   "outputs": [],
   "source": [
    "for i in range(3):\n",
    "    print('\\t',model[i])\n",
    "    mse_t = evaluator_mse.evaluate(train[i])\n",
    "    mae_t = evaluator_mae.evaluate(train[i])\n",
    "    r2_t = evaluator_r2.evaluate(train[i])\n",
    "    rmse_t = evaluator_rmse.evaluate(train[i])\n",
    "    mse_v = evaluator_mse.evaluate(test[i])\n",
    "    mae_v = evaluator_mae.evaluate(test[i])\n",
    "    r2_v = evaluator_r2.evaluate(test[i])\n",
    "    rmse_v = evaluator_rmse.evaluate(test[i])\n",
    "    print(\"Train Mean Squared Error (MSE): \", mse_t)\n",
    "    print(\"Test Mean Squared Error (MSE): \", mse_v)\n",
    "    print(\"Train R2: \", r2_t)\n",
    "    print(\"Test R2: \", r2_v)\n",
    "    print(\"Train Mean Absolute Error (MAE): \", mae_t)\n",
    "    print(\"Test Mean Absolute Error (MAE): \", mae_v)\n",
    "    print(\"Train Root Mean Squared Error (RMSE): \", rmse_t)\n",
    "    print(\"Test Root Mean Squared Error (RMSE): \", rmse_v)\n",
    "    print('---------------------------------------------')\n",
    "\n",
    "\n"
   ]
  },
  {
   "cell_type": "markdown",
   "metadata": {
    "application/vnd.databricks.v1+cell": {
     "cellMetadata": {
      "byteLimit": 2048000,
      "rowLimit": 10000
     },
     "inputWidgets": {},
     "nuid": "eb292db8-98ea-4b9f-9cc5-86a72a4fa892",
     "showTitle": false,
     "title": ""
    },
    "id": "BJSHXOHtyE02"
   },
   "source": [
    "> En general, tanto el MAE como el R2 indican que el Linear Regressor tiene un mejor desempeño en comparación con los otros modelos. El Linear Regressor muestra un MAE más bajo, lo que implica una mayor precisión en las predicciones, y tiene valores más altos de R2, lo que indica una mejor capacidad para explicar la variabilidad de los datos.\n",
    "\n",
    "> Por lo tanto, basándonos en estas métricas, el Linear Regressor sería la elección preferida como el mejor modelo para predecir el precio los inmuebles."
   ]
  },
  {
   "cell_type": "code",
   "execution_count": null,
   "metadata": {
    "application/vnd.databricks.v1+cell": {
     "cellMetadata": {
      "byteLimit": 2048000,
      "rowLimit": 10000
     },
     "inputWidgets": {},
     "nuid": "ce0b7a83-9dbf-41d5-8018-8f7f606ca795",
     "showTitle": false,
     "title": ""
    },
    "id": "Lbhy1pXtJGGM"
   },
   "outputs": [],
   "source": [
    "import mlflow\n",
    "import mlflow.pyspark.ml\n",
    "import warnings\n",
    "warnings.filterwarnings(\"ignore\")\n",
    "\n",
    "# Información del entrenamiento.\n",
    "mlflow.pyspark.ml.autolog()"
   ]
  },
  {
   "cell_type": "code",
   "execution_count": null,
   "metadata": {
    "application/vnd.databricks.v1+cell": {
     "cellMetadata": {
      "byteLimit": 2048000,
      "rowLimit": 10000
     },
     "inputWidgets": {},
     "nuid": "238e704f-90aa-434c-b277-4d4ed7c731a2",
     "showTitle": false,
     "title": ""
    }
   },
   "outputs": [],
   "source": [
    "help(LinearRegression)"
   ]
  },
  {
   "cell_type": "code",
   "execution_count": null,
   "metadata": {
    "application/vnd.databricks.v1+cell": {
     "cellMetadata": {
      "byteLimit": 2048000,
      "rowLimit": 10000
     },
     "inputWidgets": {},
     "nuid": "47e7fe9f-0ca6-4221-aef5-fb1294ffd48b",
     "showTitle": false,
     "title": ""
    }
   },
   "outputs": [],
   "source": [
    "assembler = VectorAssembler(inputCols=varc+['waterfrontVec','zipcodeVec'], \n",
    "                            outputCol=\"features\")\n",
    "\n",
    "zip_indexer = StringIndexer(inputCol=\"zipcode\", outputCol=\"zipcodeIndex\")\n",
    "zip_encoder = OneHotEncoder(inputCol=\"zipcodeIndex\", outputCol=\"zipcodeVec\")\n",
    "\n",
    "water_indexer = StringIndexer(inputCol=\"waterfront\", outputCol=\"waterfrontIndex\")\n",
    "water_encoder = OneHotEncoder(inputCol=\"waterfrontIndex\", outputCol=\"waterfrontVec\")\n",
    "\n",
    "\n",
    "def train_linear_regression(maxIter, regParam, elasticNetParam, fitIntercept, solver, tol):\n",
    "\n",
    "    # Especifique \"nested=True\" ya que esto se registrará como una ejecución secundaria dentro de Hyperopt.\n",
    "    with mlflow.start_run(run_name=\"LinearRegression\", nested=True):\n",
    "\n",
    "        linear_reg = LinearRegression(featuresCol=\"features\",\n",
    "                                      labelCol=\"price\",\n",
    "                                      maxIter=maxIter,\n",
    "                                      regParam=regParam,\n",
    "                                      elasticNetParam=elasticNetParam,\n",
    "                                      fitIntercept=fitIntercept,\n",
    "                                      solver=solver,\n",
    "                                      tol=tol)\n",
    "        linear_reg_pipeline = Pipeline(stages=[zip_indexer,\n",
    "                                               water_indexer,\n",
    "                                               zip_encoder,\n",
    "                                               water_encoder,\n",
    "                                                assembler,\n",
    "                                                linear_reg])\n",
    "\n",
    "        model = linear_reg_pipeline.fit(train_data)\n",
    "        evaluator = RegressionEvaluator(labelCol=\"price\", predictionCol=\"prediction\", metricName=\"r2\")\n",
    "        predictions = model.transform(val_data)\n",
    "        validation_metric = evaluator.evaluate(predictions)\n",
    "        \n",
    "        mlflow.log_metric(\"val_r2_score\", validation_metric)\n",
    "\n",
    "    return model, validation_metric"
   ]
  },
  {
   "cell_type": "code",
   "execution_count": null,
   "metadata": {
    "application/vnd.databricks.v1+cell": {
     "cellMetadata": {
      "byteLimit": 2048000,
      "rowLimit": 10000
     },
     "inputWidgets": {},
     "nuid": "c8a0dc8f-9e05-4200-8547-a7a098107f75",
     "showTitle": false,
     "title": ""
    }
   },
   "outputs": [],
   "source": [
    "initial_model, val_metric = train_linear_regression(maxIter=100,\n",
    "                                                    regParam=0.0,\n",
    "                                                    elasticNetParam=0.0,\n",
    "                                                    fitIntercept=True,\n",
    "                                                    solver='auto',\n",
    "                                                    tol=1e-6)\n",
    "\n",
    "print(f\"El modelo de regresión lineal entrenado logró un r2-score de {val_metric} en la porción de validación\")"
   ]
  },
  {
   "cell_type": "code",
   "execution_count": null,
   "metadata": {
    "application/vnd.databricks.v1+cell": {
     "cellMetadata": {
      "byteLimit": 2048000,
      "rowLimit": 10000
     },
     "inputWidgets": {},
     "nuid": "f7f8508d-330d-42b0-b84b-6fa926b937d4",
     "showTitle": false,
     "title": ""
    }
   },
   "outputs": [],
   "source": [
    "from hyperopt import fmin, tpe, hp, STATUS_OK"
   ]
  },
  {
   "cell_type": "code",
   "execution_count": null,
   "metadata": {
    "application/vnd.databricks.v1+cell": {
     "cellMetadata": {
      "byteLimit": 2048000,
      "rowLimit": 10000
     },
     "inputWidgets": {},
     "nuid": "299b61c2-c08b-45bf-a10e-5371c68a60a5",
     "showTitle": false,
     "title": ""
    }
   },
   "outputs": [],
   "source": [
    "hyperspace = {\n",
    "    \"maxIter\": hp.uniform(\"maxIter\", 100, 10000),\n",
    "    \"regParam\": hp.uniform(\"regParam\", 0.0, 1.0),\n",
    "    \"elasticNetParam\": hp.uniform(\"elasticNetParam\", 0.0, 1.0),\n",
    "    \"fitIntercept\": hp.choice(\"fitIntercept\", [True, False]),\n",
    "    \"solver\": hp.choice(\"solver\", [\"auto\", \"normal\", \"l-bfgs\"]),\n",
    "    \"tol\": hp.uniform(\"tol\", 1e-6, 1e-3)\n",
    "}"
   ]
  },
  {
   "cell_type": "code",
   "execution_count": null,
   "metadata": {
    "application/vnd.databricks.v1+cell": {
     "cellMetadata": {
      "byteLimit": 2048000,
      "rowLimit": 10000
     },
     "inputWidgets": {},
     "nuid": "c13f1907-fdaf-49af-95f6-1291b4f30c9e",
     "showTitle": false,
     "title": ""
    }
   },
   "outputs": [],
   "source": [
    "def train_with_hyperopt(hyperparams):\n",
    "    maxIter = int(hyperparams[\"maxIter\"])\n",
    "    regParam = float(hyperparams[\"regParam\"])\n",
    "    elasticNetParam = float(hyperparams[\"elasticNetParam\"])\n",
    "    tol = float(hyperparams[\"tol\"])\n",
    "    solver = hyperparams[\"solver\"]\n",
    "    fitIntercept = hyperparams[\"fitIntercept\"]\n",
    "\n",
    "    model, r2_score = train_linear_regression(maxIter, regParam, elasticNetParam, fitIntercept, solver, tol)\n",
    "\n",
    "    # Hyperopt asume el trabajo de minimizar una función de pérdida por lo que se toma el negativo del r2-score\n",
    "    loss = -r2_score\n",
    "    return {'loss': loss, 'status': STATUS_OK}"
   ]
  },
  {
   "cell_type": "code",
   "execution_count": null,
   "metadata": {
    "application/vnd.databricks.v1+cell": {
     "cellMetadata": {
      "byteLimit": 2048000,
      "rowLimit": 10000
     },
     "inputWidgets": {},
     "nuid": "0964ddfe-43f1-451b-b137-bc79ada8aa8b",
     "showTitle": false,
     "title": ""
    }
   },
   "outputs": [],
   "source": [
    "search_algorithm = tpe.suggest\n",
    "\n",
    "with mlflow.start_run():\n",
    "    best_params = fmin(fn=train_with_hyperopt, space=hyperspace, algo=search_algorithm, max_evals=8)"
   ]
  },
  {
   "cell_type": "code",
   "execution_count": null,
   "metadata": {
    "application/vnd.databricks.v1+cell": {
     "cellMetadata": {
      "byteLimit": 2048000,
      "rowLimit": 10000
     },
     "inputWidgets": {},
     "nuid": "60cb8a1d-91fa-4289-b968-0bab5eaddc80",
     "showTitle": false,
     "title": ""
    }
   },
   "outputs": [],
   "source": [
    "best_params"
   ]
  },
  {
   "cell_type": "code",
   "execution_count": null,
   "metadata": {
    "application/vnd.databricks.v1+cell": {
     "cellMetadata": {
      "byteLimit": 2048000,
      "rowLimit": 10000
     },
     "inputWidgets": {},
     "nuid": "75c95c39-7759-4d16-beec-b05190858a29",
     "showTitle": false,
     "title": ""
    }
   },
   "outputs": [],
   "source": [
    "best_maxIter = int(best_params[\"maxIter\"])\n",
    "best_regParam = float(best_params[\"regParam\"])\n",
    "best_elasticNetParam = float(best_params[\"elasticNetParam\"])\n",
    "best_tol = float(best_params[\"tol\"])\n",
    "best_solver = [\"auto\", \"normal\", \"l-bfgs\", \"auto-batch\"][best_params[\"solver\"]]\n",
    "best_fitIntercept = [True, False][best_params[\"fitIntercept\"]]\n"
   ]
  },
  {
   "cell_type": "code",
   "execution_count": null,
   "metadata": {
    "application/vnd.databricks.v1+cell": {
     "cellMetadata": {
      "byteLimit": 2048000,
      "rowLimit": 10000
     },
     "inputWidgets": {},
     "nuid": "a8cec897-f50b-4c61-9d4e-eea685943bc3",
     "showTitle": false,
     "title": ""
    }
   },
   "outputs": [],
   "source": [
    "lr = LinearRegression(featuresCol=\"features\", labelCol=\"price\")\n",
    "lr_pipeline = Pipeline(stages=[zip_indexer,\n",
    "                               water_indexer,\n",
    "                               zip_encoder,\n",
    "                               water_encoder,\n",
    "                               assembler,\n",
    "                               lr])\n",
    "\n",
    "best_lr = LinearRegression(featuresCol=\"features\", labelCol=\"price\",\n",
    "                            maxIter=best_maxIter,\n",
    "                            regParam=best_regParam,\n",
    "                            elasticNetParam=best_elasticNetParam,\n",
    "                            fitIntercept=best_fitIntercept,\n",
    "                            solver=best_solver,\n",
    "                            tol=best_tol)\n",
    "best_lr_pipeline = Pipeline(stages=[zip_indexer,\n",
    "                                    water_indexer,\n",
    "                                    zip_encoder,\n",
    "                                    water_encoder,\n",
    "                                    assembler,\n",
    "                                    best_lr])"
   ]
  },
  {
   "cell_type": "code",
   "execution_count": null,
   "metadata": {
    "application/vnd.databricks.v1+cell": {
     "cellMetadata": {
      "byteLimit": 2048000,
      "rowLimit": 10000
     },
     "inputWidgets": {},
     "nuid": "bbb2633a-490b-4307-844b-6423dfadded8",
     "showTitle": false,
     "title": ""
    }
   },
   "outputs": [],
   "source": [
    "model = rf_pipeline.fit(train_data)\n",
    "rf_predict_val = model.transform(val_data)\n",
    "rf_predict_train = model.transform(train_data)\n",
    "\n",
    "b_model = best_lr_pipeline.fit(train_data)\n",
    "b_rf_predict_val = b_model.transform(val_data)\n",
    "b_rf_predict_train = b_model.transform(train_data)"
   ]
  },
  {
   "cell_type": "code",
   "execution_count": null,
   "metadata": {
    "application/vnd.databricks.v1+cell": {
     "cellMetadata": {
      "byteLimit": 2048000,
      "rowLimit": 10000
     },
     "inputWidgets": {},
     "nuid": "ffd6839f-fff4-47ff-983a-7b708589c3b7",
     "showTitle": false,
     "title": ""
    }
   },
   "outputs": [],
   "source": [
    "model = ['Linear Regressor','Hyper Linear Regressor']\n",
    "train = [lr_predict_train,b_rf_predict_train]\n",
    "test = [lr_predict_val,b_rf_predict_val]\n",
    "for i in range(2):\n",
    "    print('\\t',model[i])\n",
    "    r2_t = evaluator_r2.evaluate(train[i])\n",
    "    r2_v = evaluator_r2.evaluate(test[i])\n",
    "    print(\"Train R2: \", r2_t)\n",
    "    print(\"Test R2: \", r2_v)"
   ]
  },
  {
   "cell_type": "markdown",
   "metadata": {
    "application/vnd.databricks.v1+cell": {
     "cellMetadata": {
      "byteLimit": 2048000,
      "rowLimit": 10000
     },
     "inputWidgets": {},
     "nuid": "6d8cc3ae-bbff-49ca-b298-bd1b8628f26b",
     "showTitle": false,
     "title": ""
    }
   },
   "source": [
    "El mejor modelo resulo ser el modelo hiperparanetrizado ya que sobreajusta menos"
   ]
  },
  {
   "cell_type": "code",
   "execution_count": null,
   "metadata": {
    "application/vnd.databricks.v1+cell": {
     "cellMetadata": {
      "byteLimit": 2048000,
      "rowLimit": 10000
     },
     "inputWidgets": {},
     "nuid": "cb5cd59f-158f-44ae-983b-ca7f03d5bd51",
     "showTitle": false,
     "title": ""
    }
   },
   "outputs": [],
   "source": [
    "best_model = b_model"
   ]
  },
  {
   "cell_type": "code",
   "execution_count": null,
   "metadata": {
    "application/vnd.databricks.v1+cell": {
     "cellMetadata": {
      "byteLimit": 2048000,
      "rowLimit": 10000
     },
     "inputWidgets": {},
     "nuid": "30cfa673-9865-4f07-be8d-22f7bd736e8b",
     "showTitle": false,
     "title": ""
    }
   },
   "outputs": [],
   "source": [
    "best_model.save(output_cont+'/House_Prices_Model/')"
   ]
  },
  {
   "cell_type": "code",
   "execution_count": null,
   "metadata": {
    "application/vnd.databricks.v1+cell": {
     "cellMetadata": {
      "byteLimit": 2048000,
      "rowLimit": 10000
     },
     "inputWidgets": {},
     "nuid": "0c680f21-b92b-4c39-b02d-8287bcddd3eb",
     "showTitle": false,
     "title": ""
    }
   },
   "outputs": [],
   "source": [
    "from pyspark.ml import PipelineModel\n",
    "loaded_model = PipelineModel.load(output_cont+'/House_Prices_Model/')"
   ]
  },
  {
   "cell_type": "code",
   "execution_count": null,
   "metadata": {
    "application/vnd.databricks.v1+cell": {
     "cellMetadata": {
      "byteLimit": 2048000,
      "rowLimit": 10000
     },
     "inputWidgets": {},
     "nuid": "3b5f44a5-7d1c-4457-8ed1-edf38dba7249",
     "showTitle": false,
     "title": ""
    }
   },
   "outputs": [],
   "source": [
    "predict_val = loaded_model.transform(val_data)\n",
    "predict_val.select('price','prediction').display()"
   ]
  },
  {
   "cell_type": "markdown",
   "metadata": {},
   "source": [
    "### Entrenamiento del Modelo"
   ]
  },
  {
   "cell_type": "markdown",
   "metadata": {
    "application/vnd.databricks.v1+cell": {
     "cellMetadata": {},
     "inputWidgets": {},
     "nuid": "77d08eb2-9ede-4e6c-a5fc-c8c26252e364",
     "showTitle": false,
     "title": ""
    }
   },
   "source": [
    "**Adjuntamos el siguiente documento para detallar la estrategia de la toma de decisiones. https://rebecas17.notion.site/House-Flipping-52fb32339c124dd9a7d0e778b431ea87**"
   ]
  },
  {
   "cell_type": "code",
   "execution_count": null,
   "metadata": {
    "application/vnd.databricks.v1+cell": {
     "cellMetadata": {
      "byteLimit": 2048000,
      "rowLimit": 10000
     },
     "inputWidgets": {},
     "nuid": "923efd81-4af3-494a-a834-8b7461c59cd8",
     "showTitle": false,
     "title": ""
    }
   },
   "outputs": [],
   "source": [
    "# Obtiener los coeficientes del modelo LinearRegression\n",
    "betas = loaded_model.stages[-1].coefficients\n",
    "\n",
    "# Obtiener los nombres de las variables de entrada del modelo\n",
    "inputs = loaded_model.stages[-2].getInputCols()\n",
    "\n",
    "print(\"Valores de las betas:\")\n",
    "print(betas)\n",
    "\n",
    "print(\"Variables de entrada:\")\n",
    "print(inputs)"
   ]
  },
  {
   "cell_type": "code",
   "execution_count": null,
   "metadata": {
    "application/vnd.databricks.v1+cell": {
     "cellMetadata": {
      "byteLimit": 2048000,
      "rowLimit": 10000
     },
     "inputWidgets": {},
     "nuid": "286349d1-6eaa-4e20-96cb-d765433b37d7",
     "showTitle": false,
     "title": ""
    }
   },
   "outputs": [],
   "source": [
    "# Asociar los nombres de las columnas con los valores de beta\n",
    "betas_por_variable = zip([x for x in inputs if x not in ['waterfrontVec','zipcodeVec']], [abs(x) for x in betas])\n",
    "\n",
    "print(\"Valores de las betas por variable:\")\n",
    "for var, beta in betas_por_variable:\n",
    "    print(f\"{var}: {beta}\")"
   ]
  },
  {
   "cell_type": "markdown",
   "metadata": {
    "application/vnd.databricks.v1+cell": {
     "cellMetadata": {
      "byteLimit": 2048000,
      "rowLimit": 10000
     },
     "inputWidgets": {},
     "nuid": "319920c1-0f97-4b62-8fcb-c3e416d42163",
     "showTitle": false,
     "title": ""
    }
   },
   "source": [
    "> Podemos observar que las betas de las variables bedrooms, bathrooms y floors tienen un alto valor absoluto,  esto implica que estas variables tienen una buena contribución en la predicción del modelo. Específicamente, estas variables corresponden a características que se pueden \"mejorar\" en una vivienda para aumentar su valor."
   ]
  },
  {
   "cell_type": "markdown",
   "metadata": {
    "application/vnd.databricks.v1+cell": {
     "cellMetadata": {
      "byteLimit": 2048000,
      "rowLimit": 10000
     },
     "inputWidgets": {},
     "nuid": "4f1d459c-bc0a-4c06-957b-a8d3a588ee50",
     "showTitle": false,
     "title": ""
    }
   },
   "source": [
    "Crearemos un modelo de Kmeans a partir de estas variables para identificar las características de las viviendas y la relación con el precio."
   ]
  },
  {
   "cell_type": "code",
   "execution_count": null,
   "metadata": {
    "application/vnd.databricks.v1+cell": {
     "cellMetadata": {
      "byteLimit": 2048000,
      "rowLimit": 10000
     },
     "inputWidgets": {},
     "nuid": "13ffc2f9-3825-4b99-bef9-73b6da014f1f",
     "showTitle": false,
     "title": ""
    }
   },
   "outputs": [],
   "source": [
    "ubs_assembler = VectorAssembler(inputCols=[\"bedrooms\", \"bathrooms\", \"floors\", \"price\"], outputCol=\"features\")\n",
    "ubs_kmeans = KMeans(k=3, seed=123)\n",
    "\n",
    "ubs_pipeline = Pipeline(stages=[ubs_assembler,ubs_kmeans])\n",
    "\n",
    "data_cluster = new_data.select('lat','long', \"bedrooms\", \"bathrooms\", \"floors\", 'price')\n",
    "\n",
    "ubs_model = ubs_pipeline.fit(data_cluster)\n",
    "\n",
    "data_cluster = ubs_model.transform(data_cluster)\n",
    "data_cluster = data_cluster.withColumnRenamed('prediction','Ubs_cl')"
   ]
  },
  {
   "cell_type": "code",
   "execution_count": null,
   "metadata": {
    "application/vnd.databricks.v1+cell": {
     "cellMetadata": {
      "byteLimit": 2048000,
      "rowLimit": 10000
     },
     "inputWidgets": {},
     "nuid": "a35fd77c-5e72-42f8-8ebb-21badb5e4010",
     "showTitle": false,
     "title": ""
    }
   },
   "outputs": [],
   "source": [
    "data_cluster.display()"
   ]
  },
  {
   "cell_type": "code",
   "execution_count": null,
   "metadata": {
    "application/vnd.databricks.v1+cell": {
     "cellMetadata": {},
     "inputWidgets": {},
     "nuid": "7c651992-4a48-46ba-8cee-8a3de7064167",
     "showTitle": false,
     "title": ""
    }
   },
   "outputs": [],
   "source": []
  },
  {
   "cell_type": "code",
   "execution_count": null,
   "metadata": {
    "application/vnd.databricks.v1+cell": {
     "cellMetadata": {
      "byteLimit": 2048000,
      "rowLimit": 10000
     },
     "inputWidgets": {},
     "nuid": "11fd5c7e-18a4-412b-bb0f-29cc7cee2b1c",
     "showTitle": false,
     "title": ""
    }
   },
   "outputs": [],
   "source": [
    "display(data_cluster)"
   ]
  },
  {
   "cell_type": "markdown",
   "metadata": {
    "application/vnd.databricks.v1+cell": {
     "cellMetadata": {},
     "inputWidgets": {},
     "nuid": "0eb09363-d151-4976-b32d-efc3e94addce",
     "showTitle": false,
     "title": ""
    }
   },
   "source": [
    "![Histograma](https://raw.githubusercontent.com/RebecaOsorio/houseflipping/main/vizs/modelcls_hist.png)\n",
    "![Hists c Medians](https://raw.githubusercontent.com/RebecaOsorio/houseflipping/main/vizs/modelcls_medians.png)"
   ]
  },
  {
   "cell_type": "markdown",
   "metadata": {
    "application/vnd.databricks.v1+cell": {
     "cellMetadata": {
      "byteLimit": 2048000,
      "rowLimit": 10000
     },
     "inputWidgets": {},
     "nuid": "28e4ac28-166f-4cb0-af5b-86f1d3c28bd4",
     "showTitle": false,
     "title": ""
    }
   },
   "source": [
    "Cluster 0"
   ]
  },
  {
   "cell_type": "code",
   "execution_count": null,
   "metadata": {
    "application/vnd.databricks.v1+cell": {
     "cellMetadata": {
      "byteLimit": 2048000,
      "rowLimit": 10000
     },
     "inputWidgets": {},
     "nuid": "7469c918-353b-4251-8de8-9fc6211543ec",
     "showTitle": false,
     "title": ""
    }
   },
   "outputs": [],
   "source": [
    "data_cluster.select('bedrooms', 'bathrooms', 'floors', 'price').filter(\"Ubs_cl = 0\").summary().display()"
   ]
  },
  {
   "cell_type": "markdown",
   "metadata": {
    "application/vnd.databricks.v1+cell": {
     "cellMetadata": {
      "byteLimit": 2048000,
      "rowLimit": 10000
     },
     "inputWidgets": {},
     "nuid": "3c1467ea-0e31-405a-a70a-71278ed738f5",
     "showTitle": false,
     "title": ""
    }
   },
   "source": [
    "Cluster 1"
   ]
  },
  {
   "cell_type": "code",
   "execution_count": null,
   "metadata": {
    "application/vnd.databricks.v1+cell": {
     "cellMetadata": {
      "byteLimit": 2048000,
      "rowLimit": 10000
     },
     "inputWidgets": {},
     "nuid": "6d047d48-ad34-449e-a1a6-97f2ca5190ba",
     "showTitle": false,
     "title": ""
    }
   },
   "outputs": [],
   "source": [
    "data_cluster.select('bedrooms', 'bathrooms', 'floors', 'price').filter(\"Ubs_cl = 1\").summary().display()"
   ]
  },
  {
   "cell_type": "markdown",
   "metadata": {
    "application/vnd.databricks.v1+cell": {
     "cellMetadata": {
      "byteLimit": 2048000,
      "rowLimit": 10000
     },
     "inputWidgets": {},
     "nuid": "bd4544fb-d0b6-4e4d-a4b2-24972d6b1c29",
     "showTitle": false,
     "title": ""
    }
   },
   "source": [
    "Cluster 2"
   ]
  },
  {
   "cell_type": "code",
   "execution_count": null,
   "metadata": {
    "application/vnd.databricks.v1+cell": {
     "cellMetadata": {
      "byteLimit": 2048000,
      "rowLimit": 10000
     },
     "inputWidgets": {},
     "nuid": "075b068d-d458-4583-9509-1a2b43d3c191",
     "showTitle": false,
     "title": ""
    }
   },
   "outputs": [],
   "source": [
    "data_cluster.select('bedrooms', 'bathrooms', 'floors', 'price').filter(\"Ubs_cl = 2\").summary().display()"
   ]
  },
  {
   "cell_type": "markdown",
   "metadata": {
    "application/vnd.databricks.v1+cell": {
     "cellMetadata": {},
     "inputWidgets": {},
     "nuid": "d5152004-2c8b-4bda-92bf-a583a12c4221",
     "showTitle": false,
     "title": ""
    }
   },
   "source": [
    "Con los tres clusters resultantes podemos observar las siguientes características: \n",
    "\n",
    "Inmuebles lujosos (Cluster 2)\n",
    "* Cantidad promedio de baños: 4\n",
    "* Cantidad promedio de habitaciones: 3.13\n",
    "* Cantidad promedio de pisos: 1.77\n",
    "* Precio promedio: 1,656,006\n",
    "\n",
    "Inmuebles promedio (Cluster 1)\n",
    "* Cantidad promedio de baños: 3.6\n",
    "* Cantidad promedio de habitaciones: 2.4\n",
    "* Cantidad promedio de pisos: 1.6\n",
    "* Precio promedio: 727,761\n",
    "\n",
    "Inmuebles baratos (Cluster 0)\n",
    "* Cantidad promedio de baños: 3.1\n",
    "* Cantidad promedio de habitaciones: 1.8\n",
    "* Cantidad promedio de pisos: 1.3\n",
    "* Precio promedio: 356,570\n",
    "\n",
    "Con esto, podemos identificar de manera clara las características que determinan el valor de un inmueble. Así, podemos afirmar con mayor seguridad que el valor de una propiedad puede aumentar significativamente al realizar ampliaciones, como agregar un cuarto adicional o un baño extra. Incluso, podríamos considerar una inversión aún mayor y añadir un piso extra."
   ]
  },
  {
   "cell_type": "code",
   "execution_count": null,
   "metadata": {
    "application/vnd.databricks.v1+cell": {
     "cellMetadata": {
      "byteLimit": 2048000,
      "rowLimit": 10000
     },
     "inputWidgets": {},
     "nuid": "cade5c2a-0ac3-416d-9da3-2bff496e1860",
     "showTitle": false,
     "title": ""
    }
   },
   "outputs": [],
   "source": [
    "aux = data_cluster.select('lat','long','price','Ubs_cl','bedrooms','bathrooms','floors')\n",
    "aux = aux.withColumn(\"lat\", col(\"lat\").cast('float'))\n",
    "aux = aux.withColumn(\"long\", col(\"long\").cast('float'))"
   ]
  },
  {
   "cell_type": "code",
   "execution_count": null,
   "metadata": {
    "application/vnd.databricks.v1+cell": {
     "cellMetadata": {
      "byteLimit": 2048000,
      "rowLimit": 10000
     },
     "inputWidgets": {},
     "nuid": "fdc1a5c0-3b75-4ac8-aead-c5d59dfc4fcf",
     "showTitle": false,
     "title": ""
    }
   },
   "outputs": [],
   "source": [
    "### Name of the Display\n",
    "name = \"Model_Clusters\"\n",
    "cve = \"model_cls_map\"\n",
    "\n",
    "### Load a pre-saved Config of the Display\n",
    "json_file_path = output_cont+cve+'.json'\n",
    "# Load the JSON file\n",
    "with open(json_file_path, \"r\") as json_file:\n",
    "    json_data = json.load(json_file)\n",
    "# Convert the JSON data to a dictionary\n",
    "config = dict(json_data)"
   ]
  },
  {
   "cell_type": "code",
   "execution_count": null,
   "metadata": {
    "application/vnd.databricks.v1+cell": {
     "cellMetadata": {
      "byteLimit": 2048000,
      "rowLimit": 10000
     },
     "inputWidgets": {},
     "nuid": "2f6fc752-584a-4bd7-aa02-431a676d7d2f",
     "showTitle": false,
     "title": ""
    }
   },
   "outputs": [],
   "source": [
    "kpl_clmodel = KeplerGl(height=500)\n",
    "kpl_clmodel.add_data(data=aux.select('lat','long','price','Ubs_cl','bedrooms','bathrooms','floors').toPandas(),\n",
    "                     name='House_Cluster')\n",
    "kpl_clmodel.config = config\n",
    "kpl_clmodel"
   ]
  },
  {
   "cell_type": "code",
   "execution_count": null,
   "metadata": {
    "application/vnd.databricks.v1+cell": {
     "cellMetadata": {
      "byteLimit": 2048000,
      "rowLimit": 10000
     },
     "inputWidgets": {},
     "nuid": "33ea1e5e-8cef-4807-9e52-1635c83a6f4c",
     "showTitle": false,
     "title": ""
    }
   },
   "outputs": [],
   "source": []
  }
 ],
 "metadata": {
  "accelerator": "GPU",
  "application/vnd.databricks.v1+notebook": {
   "dashboards": [],
   "language": "python",
   "notebookMetadata": {
    "pythonIndentUnit": 4
   },
   "notebookName": "4.6.8 Práctica 3",
   "widgets": {}
  },
  "colab": {
   "provenance": []
  },
  "kernelspec": {
   "display_name": "Python 3",
   "name": "python3"
  },
  "language_info": {
   "name": "python"
  }
 },
 "nbformat": 4,
 "nbformat_minor": 0
}
